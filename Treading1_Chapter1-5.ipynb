{
 "cells": [
  {
   "cell_type": "markdown",
   "metadata": {},
   "source": [
    "# Chapter 1: Why Python\n",
    "\n",
    "Many programming languages and the popularity of them ebb and flow. Python has become quite popular. Those involced in start ups, scientific computing and even large corporations havel a pull.\n",
    "\n",
    "Python enables productivity. Came to python as a Perl programmer. Python fit my brain. If you have some programming experience, you can learn the basics of python in a few days.\n",
    "\n",
    "Python is easy to learn. Great place to start for beginning programmers. Learning to write simple programs is very easy. Python also scales up to enterprise complex systems. Python also scales with age, I have personally seen people from 7-80+ learn basic programming skills using Python.\n",
    "\n",
    "\n",
    "Python is in demand, widely used and appears to be gaining polularity, specially along small startups\n",
    "\n",
    "# Chapter 2: Which Python\n",
    "\n",
    "This book will focus on Python 2. Python 3, has been out for a bit now nd is somewhat backwards incomparible with the series. Why use Python 2 then? Frankly for beginning Python there are few differences. The current advantage of python 2 is that the third party library support is better. Every major library for Python is satisfied with version 2 yet some still do not feel much pressure to migrate to version 3.\n",
    "\n",
    "For the most part examples in this book will run on 2.4, 2.6 and should be mostly fine for Python 2.7.\n",
    "\n",
    "# Chapter 3 The Interpreter\n",
    "\n",
    "Python is commonly classified as an interpreted language. Another term used to describe it is 'scripting language'. In order to get computer programs to run on the CPU, the program must be in a format that the CPU understands, namely \"machine code\". Interpreted languages do not compile directly to machine code, instead there is a layer above, and interpreter that performs this function.\n",
    "\n",
    "There are pros and cons to this approach. Python programs are slower than C programs, 10-100 times slower. However, Python optimizes developer productivity. It is not uncommon for a python program to be 2-10 shorter than its C equivalent. Also, a compilation step can be time consuming and actually a disctraction during development.\n",
    "\n",
    "Many developers are willing to accept this trade off. Smaller programs take less time to write and are easier to debug. Programmers can be expensive-- if you can throw hardware at the problem, it can be cheaper than hiring more programmers. Debugging 10 lines of code is normally easier than 100. Studies have found that the number of bugs in code is proportional to the number of lines of code.\n",
    "\n",
    "## 3.1 Interactive Interpreter\n",
    "\n",
    "Because Python has an interpreter, this enables what is known as interactive interpreter or REPL ( Real Evaluate Print Loop). This is a loop that waits for input, evaluates it (interprets it) and prints out the result.\n",
    "\n",
    "When you run the python executable by itself, you lauch the interactive interpreter in Python. Other environments, such as IDLE, also embed an interactive interpreter\n",
    "\n",
    "## 3.2 A REPL Example\n",
    "\n",
    "Here is an example:\n"
   ]
  },
  {
   "cell_type": "code",
   "execution_count": 1,
   "metadata": {},
   "outputs": [
    {
     "data": {
      "text/plain": [
       "4"
      ]
     },
     "execution_count": 1,
     "metadata": {},
     "output_type": "execute_result"
    }
   ],
   "source": [
    "2+2"
   ]
  },
  {
   "cell_type": "markdown",
   "metadata": {},
   "source": [
    "In the above example, python was typed which opened the interpreter. The REPL, by default, prints any non-None result of an expression to standar out. This behavior is inconsisten with normal Python programs, where the print statement must be explicitly invoked. But saves a few keystrokes when in REPL.\n",
    "\n",
    "## Note\n",
    "\n",
    "The >> prompt is only used on the first line of each input. If the satement typed into the REPL takes more than one line, the prompt follows:\n"
   ]
  },
  {
   "cell_type": "code",
   "execution_count": 2,
   "metadata": {},
   "outputs": [
    {
     "data": {
      "text/plain": [
       "28"
      ]
     },
     "execution_count": 2,
     "metadata": {},
     "output_type": "execute_result"
    }
   ],
   "source": [
    "sum([1,2,3,4,5,\n",
    "    6,7])"
   ]
  },
  {
   "cell_type": "code",
   "execution_count": 5,
   "metadata": {},
   "outputs": [
    {
     "name": "stdout",
     "output_type": "stream",
     "text": [
      "In : \n",
      "...: \n"
     ]
    }
   ],
   "source": [
    "#These prompts are defined in the sys module:\n",
    " \n",
    "import sys\n",
    "print sys.ps1\n",
    "print sys.ps2\n"
   ]
  },
  {
   "cell_type": "markdown",
   "metadata": {},
   "source": [
    "The REPL ends up being quite handy, can be used as a calculator\n",
    "\n",
    "# Chapter 4: Running Programs\n",
    "\n",
    "When doing saving .py files one can run them from the terminal as well. \n",
    "\n",
    "Python hello.py\n",
    "\n",
    "## 4.1 Unixy embellishments\n",
    "\n",
    "On Unix platforms (Linux and OS X) files such as hello.py are referred as scripts. The term script is often used to distinguished between native code from interpreted code. In this case, scripts are interpreted code, whereas output from the compilation step of a language that compiles to machine code (such as C) is native code.\n",
    "\n",
    "Unix environments provide a handy way to make a script, executable on its own. The firs line of the file, followed by the path to the interpreter and by changing the execulable bit on the file, you can create a file that runs itself.\n",
    "\n",
    "To have the script execute with the Python interpreter found in the environment, update your hello.py file to:\n",
    "\n",
    "!#/usr/bin/env python\n",
    "print \"hello world\"\n",
    "\n",
    "## Note\n",
    "This new first line tells the shell that executes the file to run the rest of the file with #!/usr/bin/env python executable. (Shell scripts usually start with #!/bin/bash). Save hello.py with the initial line.\n",
    "\n",
    "Making the file executable is just like with any other unix script \n",
    "\n",
    "chmod +x hello.py\n",
    "\n",
    "./hello.py\n",
    "\n",
    "# Chapter 5: Writting and Reading Data\n",
    "\n",
    "Programs usually have a notion of input and output. For simple programs, printing values to the screen and allowing the user to type in a value is usually sufficient. In Python both of these are really straight forward.\n",
    "\n",
    "## 5.1 Simple Output\n",
    "\n",
    "\n",
    "Easiest way to provide the user with output is to use the print statement, which writes to standard out.\n",
    "\n",
    "print 'Hello'\n",
    "\n",
    "## 5.1 Getting User Input\n",
    "\n",
    "    \n",
    "\n"
   ]
  },
  {
   "cell_type": "markdown",
   "metadata": {},
   "source": [
    "name - raw_input('enter your name:\n",
    "\n",
    "NOTE: In python 3 raw_input is removed and replaced by input."
   ]
  },
  {
   "cell_type": "code",
   "execution_count": 7,
   "metadata": {},
   "outputs": [
    {
     "name": "stdout",
     "output_type": "stream",
     "text": [
      "enter a number:4\n"
     ]
    },
    {
     "data": {
      "text/plain": [
       "4"
      ]
     },
     "execution_count": 7,
     "metadata": {},
     "output_type": "execute_result"
    }
   ],
   "source": [
    "#The value for raw_input is always a sring. If you want to convert it to another type like an integer or a float, \n",
    "#you will need to use the int and float functions respectively.\n",
    "\n",
    "\n",
    "value = raw_input('enter a number:')\n",
    "\n",
    "value = int(value)\n",
    "\n",
    "value\n",
    "\n"
   ]
  },
  {
   "cell_type": "code",
   "execution_count": null,
   "metadata": {
    "collapsed": true
   },
   "outputs": [],
   "source": []
  }
 ],
 "metadata": {
  "kernelspec": {
   "display_name": "Python 2",
   "language": "python",
   "name": "python2"
  },
  "language_info": {
   "codemirror_mode": {
    "name": "ipython",
    "version": 2
   },
   "file_extension": ".py",
   "mimetype": "text/x-python",
   "name": "python",
   "nbconvert_exporter": "python",
   "pygments_lexer": "ipython2",
   "version": "2.7.13"
  }
 },
 "nbformat": 4,
 "nbformat_minor": 2
}
